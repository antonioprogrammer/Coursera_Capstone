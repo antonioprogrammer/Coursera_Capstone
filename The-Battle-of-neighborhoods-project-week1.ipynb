{
    "cells": [
        {
            "cell_type": "markdown",
            "metadata": {
                "collapsed": true
            },
            "source": "# Capstone Project The Battle of the neighborhoods (week 1)"
        },
        {
            "cell_type": "markdown",
            "metadata": {},
            "source": "## Opening a restaurant in El Paso Texas Area, Zipcode or Neighborhood Recommendation Analysis"
        },
        {
            "cell_type": "markdown",
            "metadata": {},
            "source": "### 1. Introduction (Business Problem)"
        },
        {
            "cell_type": "markdown",
            "metadata": {},
            "source": "1.1 Description of the problem and discussion of the background\n\nEl paso Texas is a multi diverse cultural city bordering with Mexico. It is one of the most\nsafest cities in the United States and the cost of living is very affordable. The problem\nis that we need to find out what area, zipcode or neighborhood is recommended to open a restaurant.\n\nWe need to find the areas with highest density of restaurants since people\nwill go to these areas to socialize and or eat.\n\n1.1.1 Interest\n\nInvestors, retired people and anyone willing to invest in opening a restaurant would be \ninterested in the findings. Also customers and Pasoans would be interested in knowing where a \nrestaurant is recommended to be open."
        },
        {
            "cell_type": "markdown",
            "metadata": {},
            "source": "### 2. Data"
        },
        {
            "cell_type": "markdown",
            "metadata": {},
            "source": "2.1 Description of the Data and how it will be used to solve the problem\n\nIt is hard and challenging to find the latitude and longitude data of the city of El Paso, Texas.\nSo we might need to use python and libraries to get the latitudes and longitudes of the city. We also\nneed to create a table with neighborhood or area/zipcode, latitude and longitude columns so that we can\nexplore venues using the Foursquare API. We could also try to find a csv file containing zipcodes with latitudes and longitudes.\n\nWe are going to find the venues with the most density areas because we are going to use the hypothesis that\npeople will go to the most dense areas instead of the lonely areas to socialize or to eat.\n\n\n2.1.2 Data preparation\n\nWe need to clean the data, get rid of duplicates and maybe scrap and scrub the data so it is\nuseful for the analysis. We might need to merge zipcodes with area names or come up with neighborhoods that are part of multiple zipcodes.\n"
        }
    ],
    "metadata": {
        "kernelspec": {
            "display_name": "Python 3.6",
            "language": "python",
            "name": "python3"
        },
        "language_info": {
            "codemirror_mode": {
                "name": "ipython",
                "version": 3
            },
            "file_extension": ".py",
            "mimetype": "text/x-python",
            "name": "python",
            "nbconvert_exporter": "python",
            "pygments_lexer": "ipython3",
            "version": "3.6.9"
        }
    },
    "nbformat": 4,
    "nbformat_minor": 1
}